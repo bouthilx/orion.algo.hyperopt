{
 "cells": [
  {
   "cell_type": "code",
   "execution_count": 6,
   "metadata": {},
   "outputs": [],
   "source": [
    "import numpy as np\n",
    "import copy\n",
    "\n",
    "import hyperopt as hpo\n",
    "from hyperopt.fmin import generate_trials_to_calculate"
   ]
  },
  {
   "cell_type": "code",
   "execution_count": 7,
   "metadata": {},
   "outputs": [],
   "source": [
    "from hyperopt import hp\n",
    "space = {\n",
    "    'width': hp.uniform('width', 0, 20),\n",
    "    'height': hp.uniform('height', -100, 100),\n",
    "    'activation': hp.choice(\"activation\", [\"relu\", \"tanh\"])\n",
    "}\n",
    "\n",
    "# current_best_params = [\n",
    "#     {\n",
    "#         \"width\": 1,\n",
    "#         \"height\": 2,\n",
    "#         \"activation\": 0  # Activation will be relu\n",
    "#     },\n",
    "#     {\n",
    "#         \"width\": 4,\n",
    "#         \"height\": 2,\n",
    "#         \"activation\": 1  # Activation will be tanh\n",
    "#     }\n",
    "# ]\n",
    "\n",
    "config = {\n",
    "    \"my_exp\": {\n",
    "        \"run\": \"exp\",\n",
    "        \"num_samples\": 10,\n",
    "        \"config\": {\n",
    "            \"iterations\": 100,\n",
    "        },\n",
    "        \"stop\": {\n",
    "            \"timesteps_total\": 100\n",
    "        },\n",
    "    }\n",
    "}"
   ]
  },
  {
   "cell_type": "markdown",
   "metadata": {},
   "source": [
    "# Hyper Optimizer"
   ]
  },
  {
   "cell_type": "code",
   "execution_count": 188,
   "metadata": {},
   "outputs": [],
   "source": [
    "class HyperOptSearch():\n",
    "\n",
    "    def __init__(self,\n",
    "                 space,\n",
    "                 max_concurrent=10,\n",
    "                 reward_attr=\"episode_reward_mean\",\n",
    "                 points_to_evaluate=None,\n",
    "                 **kwargs):\n",
    "        assert hpo is not None, \"HyperOpt must be installed!\"\n",
    "        assert type(max_concurrent) is int and max_concurrent > 0\n",
    "        self._max_concurrent = max_concurrent\n",
    "        self._reward_attr = reward_attr\n",
    "        self.algo = hpo.tpe.suggest\n",
    "        self.domain = hpo.Domain(lambda spc: spc, space)\n",
    "        if points_to_evaluate is None:\n",
    "            self._hpopt_trials = hpo.Trials()\n",
    "            self._points_to_evaluate = 0\n",
    "        else:\n",
    "            assert type(points_to_evaluate) == list\n",
    "            self._hpopt_trials = generate_trials_to_calculate(\n",
    "                points_to_evaluate)\n",
    "            self._hpopt_trials.refresh()\n",
    "            self._points_to_evaluate = len(points_to_evaluate)\n",
    "        self._live_trial_mapping = {}\n",
    "        self.rstate = np.random.RandomState()\n",
    "\n",
    "        super(HyperOptSearch, self).__init__(**kwargs)\n",
    "\n",
    "    def _suggest(self, trial_id):\n",
    "        if self._num_live_trials() >= self._max_concurrent:\n",
    "            return None\n",
    "\n",
    "        if self._points_to_evaluate > 0:\n",
    "            new_trial = self._hpopt_trials.trials[self._points_to_evaluate - 1]\n",
    "            self._points_to_evaluate -= 1\n",
    "        else:\n",
    "            new_ids = self._hpopt_trials.new_trial_ids(1)\n",
    "            self._hpopt_trials.refresh()\n",
    "\n",
    "            # Get new suggestion from Hyperopt\n",
    "            new_trials = self.algo(new_ids, self.domain, self._hpopt_trials,\n",
    "                                   self.rstate.randint(2**31 - 1))\n",
    "            self._hpopt_trials.insert_trial_docs(new_trials)\n",
    "            self._hpopt_trials.refresh()\n",
    "            new_trial = new_trials[0]\n",
    "        self._live_trial_mapping[trial_id] = (new_trial[\"tid\"], new_trial)\n",
    "\n",
    "        # Taken from HyperOpt.base.evaluate\n",
    "        config = hpo.base.spec_from_misc(new_trial[\"misc\"])\n",
    "        ctrl = hpo.base.Ctrl(self._hpopt_trials, current_trial=new_trial)\n",
    "        memo = self.domain.memo_from_config(config)\n",
    "        hpo.utils.use_obj_for_literal_in_memo(self.domain.expr, ctrl,\n",
    "                                              hpo.base.Ctrl, memo)\n",
    "\n",
    "        suggested_config = hpo.pyll.rec_eval(\n",
    "            self.domain.expr,\n",
    "            memo=memo,\n",
    "            print_node_on_error=self.domain.rec_eval_print_node_on_error)\n",
    "        return copy.deepcopy(suggested_config)\n",
    "\n",
    "    def on_trial_result(self, trial_id, result):\n",
    "        ho_trial = self._get_hyperopt_trial(trial_id)\n",
    "        if ho_trial is None:\n",
    "            return\n",
    "        now = hpo.utils.coarse_utcnow()\n",
    "        ho_trial['book_time'] = now\n",
    "        ho_trial['refresh_time'] = now\n",
    "\n",
    "    def on_trial_complete(self,\n",
    "                          trial_id,\n",
    "                          result=None,\n",
    "                          error=False,\n",
    "                          early_terminated=False):\n",
    "        \"\"\"Passes the result to HyperOpt unless early terminated or errored.\n",
    "        The result is internally negated when interacting with HyperOpt\n",
    "        so that HyperOpt can \"maximize\" this value, as it minimizes on default.\n",
    "        \"\"\"\n",
    "        ho_trial = self._get_hyperopt_trial(trial_id)\n",
    "        if ho_trial is None:\n",
    "            return\n",
    "        ho_trial['refresh_time'] = hpo.utils.coarse_utcnow()\n",
    "        if error:\n",
    "            ho_trial['state'] = hpo.base.JOB_STATE_ERROR\n",
    "            ho_trial['misc']['error'] = (str(TuneError), \"Tune Error\")\n",
    "        elif early_terminated:\n",
    "            ho_trial['state'] = hpo.base.JOB_STATE_ERROR\n",
    "            ho_trial['misc']['error'] = (str(TuneError), \"Tune Removed\")\n",
    "        else:\n",
    "            ho_trial['state'] = hpo.base.JOB_STATE_DONE\n",
    "            hp_result = self._to_hyperopt_result(result)\n",
    "            ho_trial['result'] = hp_result\n",
    "        self._hpopt_trials.refresh()\n",
    "        del self._live_trial_mapping[trial_id]\n",
    "\n",
    "    def _to_hyperopt_result(self, result):\n",
    "        return {\"loss\": -result[self._reward_attr], \"status\": \"ok\"}\n",
    "\n",
    "    def _get_hyperopt_trial(self, trial_id):\n",
    "        if trial_id not in self._live_trial_mapping:\n",
    "            return\n",
    "        hyperopt_tid = self._live_trial_mapping[trial_id][0]\n",
    "        return [\n",
    "            t for t in self._hpopt_trials.trials if t[\"tid\"] == hyperopt_tid\n",
    "        ][0]\n",
    "\n",
    "    def _num_live_trials(self):\n",
    "        return len(self._live_trial_mapping)"
   ]
  },
  {
   "cell_type": "markdown",
   "metadata": {},
   "source": [
    "# Evaluation Function"
   ]
  },
  {
   "cell_type": "code",
   "execution_count": 200,
   "metadata": {},
   "outputs": [],
   "source": [
    "def easy_objective(config):\n",
    "    neg_mean_loss = -(config[\"height\"] - 14)**2 + abs(config[\"width\"] - 3)\n",
    "    result = {\"neg_mean_loss\": neg_mean_loss}\n",
    "    return result"
   ]
  },
  {
   "cell_type": "markdown",
   "metadata": {},
   "source": [
    "# Sequential example"
   ]
  },
  {
   "cell_type": "markdown",
   "metadata": {},
   "source": [
    "### Initializer Search algo"
   ]
  },
  {
   "cell_type": "code",
   "execution_count": 201,
   "metadata": {},
   "outputs": [],
   "source": [
    "# algo = HyperOptSearch(\n",
    "#     space,\n",
    "#     max_concurrent=4,\n",
    "#     reward_attr=\"neg_mean_loss\",\n",
    "#     points_to_evaluate=current_best_params)\n",
    "\n",
    "algo = HyperOptSearch(\n",
    "    space,\n",
    "    max_concurrent=1,\n",
    "    reward_attr=\"neg_mean_loss\")\n",
    "\n",
    "trial_id = 'testing'"
   ]
  },
  {
   "cell_type": "code",
   "execution_count": 202,
   "metadata": {},
   "outputs": [
    {
     "name": "stdout",
     "output_type": "stream",
     "text": [
      "0\n",
      "\n",
      "{}\n",
      "\n",
      "{'_ids': set(), '_dynamic_trials': [], '_exp_key': None, 'attachments': {}, '_trials': []}\n",
      "\n"
     ]
    }
   ],
   "source": [
    "print(algo._num_live_trials()); print()\n",
    "print(algo._live_trial_mapping); print()\n",
    "print(algo._hpopt_trials.__dict__); print()"
   ]
  },
  {
   "cell_type": "markdown",
   "metadata": {},
   "source": [
    "### Fetch suggestion for trial by provided trial_id"
   ]
  },
  {
   "cell_type": "code",
   "execution_count": 203,
   "metadata": {},
   "outputs": [
    {
     "name": "stdout",
     "output_type": "stream",
     "text": [
      "{'activation': 'tanh', 'height': -1.3731605607652853, 'width': 0.6153860935314515}\n"
     ]
    }
   ],
   "source": [
    "suggestion = algo._suggest(trial_id)\n",
    "print(suggestion)"
   ]
  },
  {
   "cell_type": "code",
   "execution_count": 204,
   "metadata": {},
   "outputs": [
    {
     "name": "stdout",
     "output_type": "stream",
     "text": [
      "1\n",
      "\n",
      "{'testing': (0, {'state': 0, 'tid': 0, 'spec': None, 'result': {'status': 'new'}, 'misc': {'tid': 0, 'cmd': ('domain_attachment', 'FMinIter_Domain'), 'workdir': None, 'idxs': {'activation': [0], 'height': [0], 'width': [0]}, 'vals': {'activation': [1], 'height': [-1.3731605607652853], 'width': [0.6153860935314515]}}, 'exp_key': None, 'owner': None, 'version': 0, 'book_time': None, 'refresh_time': None})}\n",
      "\n",
      "{'state': 0, 'tid': 0, 'spec': None, 'result': {'status': 'new'}, 'misc': {'tid': 0, 'cmd': ('domain_attachment', 'FMinIter_Domain'), 'workdir': None, 'idxs': {'activation': [0], 'height': [0], 'width': [0]}, 'vals': {'activation': [1], 'height': [-1.3731605607652853], 'width': [0.6153860935314515]}}, 'exp_key': None, 'owner': None, 'version': 0, 'book_time': None, 'refresh_time': None}\n",
      "\n"
     ]
    }
   ],
   "source": [
    "print(algo._num_live_trials()); print()\n",
    "print(algo._live_trial_mapping); print()\n",
    "print(algo._get_hyperopt_trial(trial_id)); print()"
   ]
  },
  {
   "cell_type": "markdown",
   "metadata": {},
   "source": [
    "### Evaluate suggested hyperparameters"
   ]
  },
  {
   "cell_type": "code",
   "execution_count": 205,
   "metadata": {},
   "outputs": [
    {
     "name": "stdout",
     "output_type": "stream",
     "text": [
      "{'neg_mean_loss': -233.94945172060065}\n"
     ]
    }
   ],
   "source": [
    "result = easy_objective(suggestion)\n",
    "print(result)"
   ]
  },
  {
   "cell_type": "markdown",
   "metadata": {},
   "source": [
    "### Report result\n"
   ]
  },
  {
   "cell_type": "code",
   "execution_count": 206,
   "metadata": {},
   "outputs": [
    {
     "data": {
      "text/plain": [
       "[{'state': 0,\n",
       "  'tid': 0,\n",
       "  'spec': None,\n",
       "  'result': {'status': 'new'},\n",
       "  'misc': {'tid': 0,\n",
       "   'cmd': ('domain_attachment', 'FMinIter_Domain'),\n",
       "   'workdir': None,\n",
       "   'idxs': {'activation': [0], 'height': [0], 'width': [0]},\n",
       "   'vals': {'activation': [1],\n",
       "    'height': [-1.3731605607652853],\n",
       "    'width': [0.6153860935314515]}},\n",
       "  'exp_key': None,\n",
       "  'owner': None,\n",
       "  'version': 0,\n",
       "  'book_time': None,\n",
       "  'refresh_time': None}]"
      ]
     },
     "execution_count": 206,
     "metadata": {},
     "output_type": "execute_result"
    }
   ],
   "source": [
    "algo._hpopt_trials._dynamic_trials"
   ]
  },
  {
   "cell_type": "code",
   "execution_count": 207,
   "metadata": {},
   "outputs": [
    {
     "data": {
      "text/plain": [
       "[{'state': 0,\n",
       "  'tid': 0,\n",
       "  'spec': None,\n",
       "  'result': {'status': 'new'},\n",
       "  'misc': {'tid': 0,\n",
       "   'cmd': ('domain_attachment', 'FMinIter_Domain'),\n",
       "   'workdir': None,\n",
       "   'idxs': {'activation': [0], 'height': [0], 'width': [0]},\n",
       "   'vals': {'activation': [1],\n",
       "    'height': [-1.3731605607652853],\n",
       "    'width': [0.6153860935314515]}},\n",
       "  'exp_key': None,\n",
       "  'owner': None,\n",
       "  'version': 0,\n",
       "  'book_time': datetime.datetime(2019, 2, 21, 22, 47, 25, 929000),\n",
       "  'refresh_time': datetime.datetime(2019, 2, 21, 22, 47, 25, 929000)}]"
      ]
     },
     "execution_count": 207,
     "metadata": {},
     "output_type": "execute_result"
    }
   ],
   "source": [
    "# book_time & refresh_time are set upon returning the result\n",
    "algo.on_trial_result(trial_id, result)\n",
    "algo._hpopt_trials._dynamic_trials"
   ]
  },
  {
   "cell_type": "code",
   "execution_count": 208,
   "metadata": {},
   "outputs": [
    {
     "data": {
      "text/plain": [
       "{'_ids': {0},\n",
       " '_dynamic_trials': [{'state': 0,\n",
       "   'tid': 0,\n",
       "   'spec': None,\n",
       "   'result': {'status': 'new'},\n",
       "   'misc': {'tid': 0,\n",
       "    'cmd': ('domain_attachment', 'FMinIter_Domain'),\n",
       "    'workdir': None,\n",
       "    'idxs': {'activation': [0], 'height': [0], 'width': [0]},\n",
       "    'vals': {'activation': [1],\n",
       "     'height': [-1.3731605607652853],\n",
       "     'width': [0.6153860935314515]}},\n",
       "   'exp_key': None,\n",
       "   'owner': None,\n",
       "   'version': 0,\n",
       "   'book_time': datetime.datetime(2019, 2, 21, 22, 47, 25, 929000),\n",
       "   'refresh_time': datetime.datetime(2019, 2, 21, 22, 47, 25, 929000)}],\n",
       " '_exp_key': None,\n",
       " 'attachments': {},\n",
       " '_trials': [{'state': 0,\n",
       "   'tid': 0,\n",
       "   'spec': None,\n",
       "   'result': {'status': 'new'},\n",
       "   'misc': {'tid': 0,\n",
       "    'cmd': ('domain_attachment', 'FMinIter_Domain'),\n",
       "    'workdir': None,\n",
       "    'idxs': {'activation': [0], 'height': [0], 'width': [0]},\n",
       "    'vals': {'activation': [1],\n",
       "     'height': [-1.3731605607652853],\n",
       "     'width': [0.6153860935314515]}},\n",
       "   'exp_key': None,\n",
       "   'owner': None,\n",
       "   'version': 0,\n",
       "   'book_time': datetime.datetime(2019, 2, 21, 22, 47, 25, 929000),\n",
       "   'refresh_time': datetime.datetime(2019, 2, 21, 22, 47, 25, 929000)}]}"
      ]
     },
     "execution_count": 208,
     "metadata": {},
     "output_type": "execute_result"
    }
   ],
   "source": [
    "algo._hpopt_trials.__dict__"
   ]
  },
  {
   "cell_type": "code",
   "execution_count": 209,
   "metadata": {},
   "outputs": [
    {
     "name": "stdout",
     "output_type": "stream",
     "text": [
      "None\n",
      "\n"
     ]
    },
    {
     "data": {
      "text/plain": [
       "{'_ids': {0},\n",
       " '_dynamic_trials': [{'state': 2,\n",
       "   'tid': 0,\n",
       "   'spec': None,\n",
       "   'result': {'loss': 233.94945172060065, 'status': 'ok'},\n",
       "   'misc': {'tid': 0,\n",
       "    'cmd': ('domain_attachment', 'FMinIter_Domain'),\n",
       "    'workdir': None,\n",
       "    'idxs': {'activation': [0], 'height': [0], 'width': [0]},\n",
       "    'vals': {'activation': [1],\n",
       "     'height': [-1.3731605607652853],\n",
       "     'width': [0.6153860935314515]}},\n",
       "   'exp_key': None,\n",
       "   'owner': None,\n",
       "   'version': 0,\n",
       "   'book_time': datetime.datetime(2019, 2, 21, 22, 47, 25, 929000),\n",
       "   'refresh_time': datetime.datetime(2019, 2, 21, 22, 47, 26, 426000)}],\n",
       " '_exp_key': None,\n",
       " 'attachments': {},\n",
       " '_trials': [{'state': 2,\n",
       "   'tid': 0,\n",
       "   'spec': None,\n",
       "   'result': {'loss': 233.94945172060065, 'status': 'ok'},\n",
       "   'misc': {'tid': 0,\n",
       "    'cmd': ('domain_attachment', 'FMinIter_Domain'),\n",
       "    'workdir': None,\n",
       "    'idxs': {'activation': [0], 'height': [0], 'width': [0]},\n",
       "    'vals': {'activation': [1],\n",
       "     'height': [-1.3731605607652853],\n",
       "     'width': [0.6153860935314515]}},\n",
       "   'exp_key': None,\n",
       "   'owner': None,\n",
       "   'version': 0,\n",
       "   'book_time': datetime.datetime(2019, 2, 21, 22, 47, 25, 929000),\n",
       "   'refresh_time': datetime.datetime(2019, 2, 21, 22, 47, 26, 426000)}]}"
      ]
     },
     "execution_count": 209,
     "metadata": {},
     "output_type": "execute_result"
    }
   ],
   "source": [
    "# Resets refresh_time & updates result\n",
    "print(algo.on_trial_complete(trial_id, result)); print()\n",
    "algo._hpopt_trials.__dict__"
   ]
  },
  {
   "cell_type": "markdown",
   "metadata": {},
   "source": [
    "### One more iteration"
   ]
  },
  {
   "cell_type": "code",
   "execution_count": 210,
   "metadata": {},
   "outputs": [
    {
     "data": {
      "text/plain": [
       "[{'state': 2,\n",
       "  'tid': 0,\n",
       "  'spec': None,\n",
       "  'result': {'loss': 233.94945172060065, 'status': 'ok'},\n",
       "  'misc': {'tid': 0,\n",
       "   'cmd': ('domain_attachment', 'FMinIter_Domain'),\n",
       "   'workdir': None,\n",
       "   'idxs': {'activation': [0], 'height': [0], 'width': [0]},\n",
       "   'vals': {'activation': [1],\n",
       "    'height': [-1.3731605607652853],\n",
       "    'width': [0.6153860935314515]}},\n",
       "  'exp_key': None,\n",
       "  'owner': None,\n",
       "  'version': 0,\n",
       "  'book_time': datetime.datetime(2019, 2, 21, 22, 47, 25, 929000),\n",
       "  'refresh_time': datetime.datetime(2019, 2, 21, 22, 47, 26, 426000)},\n",
       " {'state': 2,\n",
       "  'tid': 1,\n",
       "  'spec': None,\n",
       "  'result': {'loss': 2301.8326375575343, 'status': 'ok'},\n",
       "  'misc': {'tid': 1,\n",
       "   'cmd': ('domain_attachment', 'FMinIter_Domain'),\n",
       "   'workdir': None,\n",
       "   'idxs': {'activation': [1], 'height': [1], 'width': [1]},\n",
       "   'vals': {'activation': [0],\n",
       "    'height': [-34.1279148420155],\n",
       "    'width': [17.4635494827617]}},\n",
       "  'exp_key': None,\n",
       "  'owner': None,\n",
       "  'version': 0,\n",
       "  'book_time': datetime.datetime(2019, 2, 21, 22, 47, 27, 150000),\n",
       "  'refresh_time': datetime.datetime(2019, 2, 21, 22, 47, 27, 150000)}]"
      ]
     },
     "execution_count": 210,
     "metadata": {},
     "output_type": "execute_result"
    }
   ],
   "source": [
    "suggestion = algo._suggest(trial_id)\n",
    "result = easy_objective(suggestion)\n",
    "algo.on_trial_result(trial_id, result)\n",
    "algo.on_trial_complete(trial_id, result)\n",
    "algo._hpopt_trials._dynamic_trials"
   ]
  },
  {
   "cell_type": "code",
   "execution_count": 212,
   "metadata": {},
   "outputs": [
    {
     "name": "stdout",
     "output_type": "stream",
     "text": [
      "233.94945172060065\n",
      "2301.8326375575343\n"
     ]
    }
   ],
   "source": [
    "print(algo._hpopt_trials._dynamic_trials[0]['result']['loss'])\n",
    "print(algo._hpopt_trials._dynamic_trials[1]['result']['loss'])"
   ]
  },
  {
   "cell_type": "markdown",
   "metadata": {},
   "source": [
    "### Run search 100 times more"
   ]
  },
  {
   "cell_type": "code",
   "execution_count": 215,
   "metadata": {},
   "outputs": [
    {
     "name": "stdout",
     "output_type": "stream",
     "text": [
      "9.06693588824082\n",
      "132.59070293413217\n",
      "423.1460380750672\n",
      "90.3692272883436\n",
      "-15.335153910146333\n",
      "546.7765739645824\n",
      "258.6725747577753\n",
      "85.69453611262799\n",
      "462.7212141975487\n",
      "58.4740758857037\n",
      "-14.911356873749023\n",
      "11.650968889147158\n",
      "200.00080527025452\n",
      "185.87631757766428\n",
      "56.734119222977554\n",
      "654.8831094320271\n",
      "-14.30217986786031\n",
      "626.9450385922133\n",
      "321.621714925711\n",
      "4.783081071491576\n",
      "83.56297923289557\n",
      "921.3633576986615\n",
      "840.9873962553777\n",
      "328.971974647292\n",
      "132.02523847383966\n",
      "-10.361497093333021\n",
      "7.7519036349118835\n",
      "285.05034821529745\n",
      "6.193462274942185\n",
      "140.02748790911718\n",
      "477.6702174758122\n",
      "1289.3997019818676\n",
      "-15.631806982566982\n",
      "483.06921407831726\n",
      "71.91043717618464\n",
      "1146.117978141471\n",
      "28.776390284462245\n",
      "248.27240693093415\n",
      "201.4370620674202\n",
      "-5.956475757574834\n",
      "119.6319100996355\n",
      "58.868613482588245\n",
      "644.9716701861198\n",
      "781.4664165364215\n",
      "1497.0333741137642\n",
      "49.68702236408042\n",
      "430.23062816286404\n",
      "-16.723076043487115\n",
      "17.0828140716995\n",
      "-7.603057123494974\n",
      "11993.470833643712\n",
      "871.7663979074869\n",
      "393.37697398913366\n",
      "266.8096694159708\n",
      "1068.1214597003636\n",
      "193.44293405402155\n",
      "-13.59729805479862\n",
      "55.21818021528543\n",
      "132.9080602049078\n",
      "35.78625241620083\n",
      "627.3481672329359\n",
      "-2.189813184378652\n",
      "119.29849388842209\n",
      "-12.346223933526288\n",
      "735.2575710787851\n",
      "330.30209082967843\n",
      "415.2153015791447\n",
      "205.37663300102622\n",
      "5.413171389553142\n",
      "-8.3900375020248\n",
      "36.559045786183916\n",
      "974.966833504165\n",
      "219.96189326551843\n",
      "88.39837849901632\n",
      "481.75351540789455\n",
      "1440.7027805824112\n",
      "628.6217377358695\n",
      "116.9152414322655\n",
      "-3.741708219389926\n",
      "339.6129261705879\n",
      "30.88537025782342\n",
      "302.552643838812\n",
      "-13.86622649324444\n",
      "10.338832150164436\n",
      "203.86544084916395\n",
      "729.5157427239151\n",
      "1153.4241057965992\n",
      "125.10412167521326\n",
      "83.22563387208248\n",
      "472.85925736635755\n",
      "1053.8889460928697\n",
      "-16.473002306328244\n",
      "485.94306305418706\n",
      "1686.0870497580377\n",
      "26.258739402103785\n",
      "37.91982423331096\n",
      "225.7771483834969\n",
      "193.26944773552\n",
      "297.251338408787\n",
      "715.9905454705449\n"
     ]
    }
   ],
   "source": [
    "for _ in range(100):\n",
    "    suggestion = algo._suggest(trial_id)\n",
    "    result = easy_objective(suggestion)\n",
    "    algo.on_trial_result(trial_id, result)\n",
    "    algo.on_trial_complete(trial_id, result)\n",
    "    print(algo._hpopt_trials._dynamic_trials[-1]['result']['loss'])"
   ]
  },
  {
   "cell_type": "code",
   "execution_count": null,
   "metadata": {},
   "outputs": [],
   "source": []
  }
 ],
 "metadata": {
  "kernelspec": {
   "display_name": "Python 3",
   "language": "python",
   "name": "python3"
  },
  "language_info": {
   "codemirror_mode": {
    "name": "ipython",
    "version": 3
   },
   "file_extension": ".py",
   "mimetype": "text/x-python",
   "name": "python",
   "nbconvert_exporter": "python",
   "pygments_lexer": "ipython3",
   "version": "3.7.2"
  }
 },
 "nbformat": 4,
 "nbformat_minor": 2
}
